{
 "cells": [
  {
   "cell_type": "markdown",
   "metadata": {},
   "source": [
    "# Importing Packages"
   ]
  },
  {
   "cell_type": "code",
   "execution_count": 2,
   "metadata": {},
   "outputs": [],
   "source": [
    "import json\n",
    "import os"
   ]
  },
  {
   "cell_type": "code",
   "execution_count": 3,
   "metadata": {},
   "outputs": [],
   "source": [
    "import pandas as pd\n",
    "import numpy as np\n",
    "import matplotlib.pyplot as plt\n",
    "import seaborn as sns\n",
    "\n",
    "# import biom\n",
    "# from qiime2.plugins import feature_table\n",
    "# from qiime2 import Artifact\n",
    "# from qiime2.plugins.metadata.methods import distance_matrix\n"
   ]
  },
  {
   "cell_type": "markdown",
   "metadata": {},
   "source": [
    "## Importing Data"
   ]
  },
  {
   "cell_type": "code",
   "execution_count": 3,
   "metadata": {},
   "outputs": [],
   "source": [
    "## Obtaining file paths\n",
    "with open(\"config/data-params.json\") as fh:\n",
    "    file_paths = json.load(fh)"
   ]
  },
  {
   "cell_type": "code",
   "execution_count": 4,
   "metadata": {},
   "outputs": [
    {
     "name": "stderr",
     "output_type": "stream",
     "text": [
      "/tmp/ipykernel_100/1233155276.py:2: DtypeWarning: Columns (1,2,3,4,6,7,8,10,11,12,13,14,17,18,19,20,25,26,27,29,30,31,32,33,34,35,36,37,38,40,41,42,43,44,45,46,55,56,57,61,62,63,64,65,66,67,69,70,71,72,73,75,76,78,80,82,83,84,85,86,87,88,89,90,91,92,95,98,99,102,103,104,105,106,107,108,109,111,119,121,122,123,124,125,126,127,128,129,130,131,132,133,134,136,138,139,141,142,143,144,145,146,147,148,152,153,155,156,157,160,164,165,168,169,170,172,173,174,175) have mixed types. Specify dtype option on import or set low_memory=False.\n",
      "  metadata = pd.read_csv('~/private/dsc180b-data/11666_metadata.txt', sep='\\t', index_col=0)\n"
     ]
    }
   ],
   "source": [
    "feature_table = pd.read_csv('~/private/dsc180b-data/feature_table.csv')\n",
    "metadata = pd.read_csv('~/private/dsc180b-data/11666_metadata.txt', sep='\\t', index_col=0)"
   ]
  },
  {
   "cell_type": "markdown",
   "metadata": {},
   "source": [
    "# Subset of Metadata"
   ]
  },
  {
   "cell_type": "code",
   "execution_count": 97,
   "metadata": {},
   "outputs": [
    {
     "data": {
      "text/html": [
       "<div>\n",
       "<style scoped>\n",
       "    .dataframe tbody tr th:only-of-type {\n",
       "        vertical-align: middle;\n",
       "    }\n",
       "\n",
       "    .dataframe tbody tr th {\n",
       "        vertical-align: top;\n",
       "    }\n",
       "\n",
       "    .dataframe thead th {\n",
       "        text-align: right;\n",
       "    }\n",
       "</style>\n",
       "<table border=\"1\" class=\"dataframe\">\n",
       "  <thead>\n",
       "    <tr style=\"text-align: right;\">\n",
       "      <th></th>\n",
       "      <th>obesity</th>\n",
       "      <th>diabetes</th>\n",
       "      <th>dyslipidemia</th>\n",
       "      <th>hypertension</th>\n",
       "      <th>ckd</th>\n",
       "      <th>precvd</th>\n",
       "      <th>elevated_bp</th>\n",
       "    </tr>\n",
       "    <tr>\n",
       "      <th>sample_name</th>\n",
       "      <th></th>\n",
       "      <th></th>\n",
       "      <th></th>\n",
       "      <th></th>\n",
       "      <th></th>\n",
       "      <th></th>\n",
       "      <th></th>\n",
       "    </tr>\n",
       "  </thead>\n",
       "  <tbody>\n",
       "    <tr>\n",
       "      <th>11666.BLANK1.1A</th>\n",
       "      <td>not applicable</td>\n",
       "      <td>not applicable</td>\n",
       "      <td>not applicable</td>\n",
       "      <td>not applicable</td>\n",
       "      <td>not applicable</td>\n",
       "      <td>not applicable</td>\n",
       "      <td>not applicable</td>\n",
       "    </tr>\n",
       "    <tr>\n",
       "      <th>11666.BLANK1.1A.ITS</th>\n",
       "      <td>not applicable</td>\n",
       "      <td>not applicable</td>\n",
       "      <td>not applicable</td>\n",
       "      <td>not applicable</td>\n",
       "      <td>not applicable</td>\n",
       "      <td>not applicable</td>\n",
       "      <td>not applicable</td>\n",
       "    </tr>\n",
       "    <tr>\n",
       "      <th>11666.BLANK1.1B</th>\n",
       "      <td>not applicable</td>\n",
       "      <td>not applicable</td>\n",
       "      <td>not applicable</td>\n",
       "      <td>not applicable</td>\n",
       "      <td>not applicable</td>\n",
       "      <td>not applicable</td>\n",
       "      <td>not applicable</td>\n",
       "    </tr>\n",
       "    <tr>\n",
       "      <th>11666.BLANK1.1B.ITS</th>\n",
       "      <td>not applicable</td>\n",
       "      <td>not applicable</td>\n",
       "      <td>not applicable</td>\n",
       "      <td>not applicable</td>\n",
       "      <td>not applicable</td>\n",
       "      <td>not applicable</td>\n",
       "      <td>not applicable</td>\n",
       "    </tr>\n",
       "    <tr>\n",
       "      <th>11666.BLANK1.1C</th>\n",
       "      <td>not applicable</td>\n",
       "      <td>not applicable</td>\n",
       "      <td>not applicable</td>\n",
       "      <td>not applicable</td>\n",
       "      <td>not applicable</td>\n",
       "      <td>not applicable</td>\n",
       "      <td>not applicable</td>\n",
       "    </tr>\n",
       "  </tbody>\n",
       "</table>\n",
       "</div>"
      ],
      "text/plain": [
       "                            obesity        diabetes    dyslipidemia  \\\n",
       "sample_name                                                           \n",
       "11666.BLANK1.1A      not applicable  not applicable  not applicable   \n",
       "11666.BLANK1.1A.ITS  not applicable  not applicable  not applicable   \n",
       "11666.BLANK1.1B      not applicable  not applicable  not applicable   \n",
       "11666.BLANK1.1B.ITS  not applicable  not applicable  not applicable   \n",
       "11666.BLANK1.1C      not applicable  not applicable  not applicable   \n",
       "\n",
       "                       hypertension             ckd          precvd  \\\n",
       "sample_name                                                           \n",
       "11666.BLANK1.1A      not applicable  not applicable  not applicable   \n",
       "11666.BLANK1.1A.ITS  not applicable  not applicable  not applicable   \n",
       "11666.BLANK1.1B      not applicable  not applicable  not applicable   \n",
       "11666.BLANK1.1B.ITS  not applicable  not applicable  not applicable   \n",
       "11666.BLANK1.1C      not applicable  not applicable  not applicable   \n",
       "\n",
       "                        elevated_bp  \n",
       "sample_name                          \n",
       "11666.BLANK1.1A      not applicable  \n",
       "11666.BLANK1.1A.ITS  not applicable  \n",
       "11666.BLANK1.1B      not applicable  \n",
       "11666.BLANK1.1B.ITS  not applicable  \n",
       "11666.BLANK1.1C      not applicable  "
      ]
     },
     "execution_count": 97,
     "metadata": {},
     "output_type": "execute_result"
    }
   ],
   "source": [
    "diseases = {\n",
    "    'abdominal_obesity_ncep_v2': 'obesity',\n",
    "    'diabetes2_v2': 'diabetes',\n",
    "    'dyslipidemia_v2': 'dyslipidemia',\n",
    "    'hypertension2_v2': 'hypertension',\n",
    "    'ckd2': 'ckd',\n",
    "    'precvd': 'precvd',\n",
    "    'elevated_bp_selfmeds_v2': 'elevated_bp',\n",
    "}\n",
    "           \n",
    "other_cols = {\n",
    "    'age_v2': 'age',\n",
    "    'center': 'center',\n",
    "    'gender': 'gender',\n",
    "    'host_body_mass_index': 'BMI'\n",
    "}\n",
    "\n",
    "subset_cols = diseases | other_cols\n",
    "\n",
    "sub_metadata = metadata[subset_cols.keys()].rename(columns=subset_cols).dropna() \n",
    "disease_metadata = metadata[diseases.keys()].rename(columns=diseases).dropna() #only diseases\n",
    "\n",
    "disease_metadata.head()"
   ]
  },
  {
   "cell_type": "code",
   "execution_count": 98,
   "metadata": {},
   "outputs": [
    {
     "name": "stdout",
     "output_type": "stream",
     "text": [
      "['not applicable' '1' '0' 'not provided' 1.0 0.0]\n",
      "['not applicable' '2' '3' '1' 'not provided' 2.0 3.0 1.0]\n",
      "['not applicable' '0' '1' 'not provided' 0.0 1.0]\n",
      "['not applicable' '1' '0' 'not provided' 1.0 0.0]\n",
      "['not applicable' '0' '1' 'not provided' 0.0 1.0]\n",
      "['not applicable' '0' '1' 'not provided' 0.0 1.0]\n",
      "['not applicable' '1' '0' 'not provided' 1.0 0.0]\n"
     ]
    }
   ],
   "source": [
    "for _, col in enumerate(disease_metadata):\n",
    "    print(disease_metadata[col].unique())"
   ]
  },
  {
   "cell_type": "code",
   "execution_count": 99,
   "metadata": {},
   "outputs": [
    {
     "data": {
      "text/html": [
       "<div>\n",
       "<style scoped>\n",
       "    .dataframe tbody tr th:only-of-type {\n",
       "        vertical-align: middle;\n",
       "    }\n",
       "\n",
       "    .dataframe tbody tr th {\n",
       "        vertical-align: top;\n",
       "    }\n",
       "\n",
       "    .dataframe thead th {\n",
       "        text-align: right;\n",
       "    }\n",
       "</style>\n",
       "<table border=\"1\" class=\"dataframe\">\n",
       "  <thead>\n",
       "    <tr style=\"text-align: right;\">\n",
       "      <th></th>\n",
       "      <th>obesity</th>\n",
       "      <th>diabetes</th>\n",
       "      <th>dyslipidemia</th>\n",
       "      <th>hypertension</th>\n",
       "      <th>ckd</th>\n",
       "      <th>precvd</th>\n",
       "      <th>elevated_bp</th>\n",
       "      <th>total_diseases</th>\n",
       "    </tr>\n",
       "    <tr>\n",
       "      <th>sample_name</th>\n",
       "      <th></th>\n",
       "      <th></th>\n",
       "      <th></th>\n",
       "      <th></th>\n",
       "      <th></th>\n",
       "      <th></th>\n",
       "      <th></th>\n",
       "      <th></th>\n",
       "    </tr>\n",
       "  </thead>\n",
       "  <tbody>\n",
       "    <tr>\n",
       "      <th>11666.BLANK1.1A</th>\n",
       "      <td>0</td>\n",
       "      <td>0</td>\n",
       "      <td>0</td>\n",
       "      <td>0</td>\n",
       "      <td>0</td>\n",
       "      <td>0</td>\n",
       "      <td>0</td>\n",
       "      <td>0</td>\n",
       "    </tr>\n",
       "    <tr>\n",
       "      <th>11666.BLANK1.1A.ITS</th>\n",
       "      <td>0</td>\n",
       "      <td>0</td>\n",
       "      <td>0</td>\n",
       "      <td>0</td>\n",
       "      <td>0</td>\n",
       "      <td>0</td>\n",
       "      <td>0</td>\n",
       "      <td>0</td>\n",
       "    </tr>\n",
       "    <tr>\n",
       "      <th>11666.BLANK1.1B</th>\n",
       "      <td>0</td>\n",
       "      <td>0</td>\n",
       "      <td>0</td>\n",
       "      <td>0</td>\n",
       "      <td>0</td>\n",
       "      <td>0</td>\n",
       "      <td>0</td>\n",
       "      <td>0</td>\n",
       "    </tr>\n",
       "    <tr>\n",
       "      <th>11666.BLANK1.1B.ITS</th>\n",
       "      <td>0</td>\n",
       "      <td>0</td>\n",
       "      <td>0</td>\n",
       "      <td>0</td>\n",
       "      <td>0</td>\n",
       "      <td>0</td>\n",
       "      <td>0</td>\n",
       "      <td>0</td>\n",
       "    </tr>\n",
       "    <tr>\n",
       "      <th>11666.BLANK1.1C</th>\n",
       "      <td>0</td>\n",
       "      <td>0</td>\n",
       "      <td>0</td>\n",
       "      <td>0</td>\n",
       "      <td>0</td>\n",
       "      <td>0</td>\n",
       "      <td>0</td>\n",
       "      <td>0</td>\n",
       "    </tr>\n",
       "    <tr>\n",
       "      <th>...</th>\n",
       "      <td>...</td>\n",
       "      <td>...</td>\n",
       "      <td>...</td>\n",
       "      <td>...</td>\n",
       "      <td>...</td>\n",
       "      <td>...</td>\n",
       "      <td>...</td>\n",
       "      <td>...</td>\n",
       "    </tr>\n",
       "    <tr>\n",
       "      <th>11666.G1777A</th>\n",
       "      <td>0</td>\n",
       "      <td>1</td>\n",
       "      <td>1</td>\n",
       "      <td>1</td>\n",
       "      <td>0</td>\n",
       "      <td>0</td>\n",
       "      <td>1</td>\n",
       "      <td>4</td>\n",
       "    </tr>\n",
       "    <tr>\n",
       "      <th>11666.G1778A</th>\n",
       "      <td>1</td>\n",
       "      <td>1</td>\n",
       "      <td>0</td>\n",
       "      <td>1</td>\n",
       "      <td>0</td>\n",
       "      <td>0</td>\n",
       "      <td>1</td>\n",
       "      <td>4</td>\n",
       "    </tr>\n",
       "    <tr>\n",
       "      <th>11666.G1779A</th>\n",
       "      <td>1</td>\n",
       "      <td>1</td>\n",
       "      <td>0</td>\n",
       "      <td>1</td>\n",
       "      <td>0</td>\n",
       "      <td>0</td>\n",
       "      <td>1</td>\n",
       "      <td>4</td>\n",
       "    </tr>\n",
       "    <tr>\n",
       "      <th>11666.G1780A</th>\n",
       "      <td>1</td>\n",
       "      <td>1</td>\n",
       "      <td>1</td>\n",
       "      <td>1</td>\n",
       "      <td>0</td>\n",
       "      <td>0</td>\n",
       "      <td>1</td>\n",
       "      <td>5</td>\n",
       "    </tr>\n",
       "    <tr>\n",
       "      <th>11666.G1781A</th>\n",
       "      <td>1</td>\n",
       "      <td>1</td>\n",
       "      <td>0</td>\n",
       "      <td>1</td>\n",
       "      <td>0</td>\n",
       "      <td>0</td>\n",
       "      <td>1</td>\n",
       "      <td>4</td>\n",
       "    </tr>\n",
       "  </tbody>\n",
       "</table>\n",
       "<p>3726 rows × 8 columns</p>\n",
       "</div>"
      ],
      "text/plain": [
       "                     obesity  diabetes  dyslipidemia  hypertension  ckd  \\\n",
       "sample_name                                                               \n",
       "11666.BLANK1.1A            0         0             0             0    0   \n",
       "11666.BLANK1.1A.ITS        0         0             0             0    0   \n",
       "11666.BLANK1.1B            0         0             0             0    0   \n",
       "11666.BLANK1.1B.ITS        0         0             0             0    0   \n",
       "11666.BLANK1.1C            0         0             0             0    0   \n",
       "...                      ...       ...           ...           ...  ...   \n",
       "11666.G1777A               0         1             1             1    0   \n",
       "11666.G1778A               1         1             0             1    0   \n",
       "11666.G1779A               1         1             0             1    0   \n",
       "11666.G1780A               1         1             1             1    0   \n",
       "11666.G1781A               1         1             0             1    0   \n",
       "\n",
       "                     precvd  elevated_bp  total_diseases  \n",
       "sample_name                                               \n",
       "11666.BLANK1.1A           0            0               0  \n",
       "11666.BLANK1.1A.ITS       0            0               0  \n",
       "11666.BLANK1.1B           0            0               0  \n",
       "11666.BLANK1.1B.ITS       0            0               0  \n",
       "11666.BLANK1.1C           0            0               0  \n",
       "...                     ...          ...             ...  \n",
       "11666.G1777A              0            1               4  \n",
       "11666.G1778A              0            1               4  \n",
       "11666.G1779A              0            1               4  \n",
       "11666.G1780A              0            1               5  \n",
       "11666.G1781A              0            1               4  \n",
       "\n",
       "[3726 rows x 8 columns]"
      ]
     },
     "execution_count": 99,
     "metadata": {},
     "output_type": "execute_result"
    }
   ],
   "source": [
    "## COLUMN MAPS\n",
    "disease_map = {\n",
    "    'not applicable': 0,\n",
    "    'not provided': 0,\n",
    "    '0': 0,\n",
    "    '1': 1,\n",
    "    '2': 1,\n",
    "    '3': 1,\n",
    "    0.0: 0,\n",
    "    1.0: 1,\n",
    "    2.0: 1,\n",
    "    3.0: 1\n",
    "}\n",
    "\n",
    "disease_metadata = disease_metadata.applymap(lambda x: disease_map[x]) #map values to binary\n",
    "disease_metadata['total_diseases'] = disease_metadata.sum(axis=1) #how many diseases each sample has\n",
    "disease_metadata"
   ]
  },
  {
   "cell_type": "code",
   "execution_count": 101,
   "metadata": {},
   "outputs": [
    {
     "data": {
      "text/plain": [
       "4    726\n",
       "2    712\n",
       "3    660\n",
       "0    602\n",
       "5    525\n",
       "1    365\n",
       "6    131\n",
       "7      5\n",
       "Name: total_diseases, dtype: int64"
      ]
     },
     "execution_count": 101,
     "metadata": {},
     "output_type": "execute_result"
    }
   ],
   "source": [
    "disease_metadata['total_diseases'].value_counts()"
   ]
  },
  {
   "cell_type": "code",
   "execution_count": 92,
   "metadata": {},
   "outputs": [
    {
     "data": {
      "text/html": [
       "<div>\n",
       "<style scoped>\n",
       "    .dataframe tbody tr th:only-of-type {\n",
       "        vertical-align: middle;\n",
       "    }\n",
       "\n",
       "    .dataframe tbody tr th {\n",
       "        vertical-align: top;\n",
       "    }\n",
       "\n",
       "    .dataframe thead th {\n",
       "        text-align: right;\n",
       "    }\n",
       "</style>\n",
       "<table border=\"1\" class=\"dataframe\">\n",
       "  <thead>\n",
       "    <tr style=\"text-align: right;\">\n",
       "      <th></th>\n",
       "      <th>obesity</th>\n",
       "      <th>diabetes</th>\n",
       "      <th>dyslipidemia</th>\n",
       "      <th>hypertension</th>\n",
       "      <th>ckd</th>\n",
       "      <th>precvd</th>\n",
       "      <th>elevated_bp</th>\n",
       "      <th>total_diseases</th>\n",
       "    </tr>\n",
       "    <tr>\n",
       "      <th>sample_name</th>\n",
       "      <th></th>\n",
       "      <th></th>\n",
       "      <th></th>\n",
       "      <th></th>\n",
       "      <th></th>\n",
       "      <th></th>\n",
       "      <th></th>\n",
       "      <th></th>\n",
       "    </tr>\n",
       "  </thead>\n",
       "  <tbody>\n",
       "    <tr>\n",
       "      <th>11666.BLANK1.1A</th>\n",
       "      <td>not applicable</td>\n",
       "      <td>not applicable</td>\n",
       "      <td>not applicable</td>\n",
       "      <td>not applicable</td>\n",
       "      <td>not applicable</td>\n",
       "      <td>not applicable</td>\n",
       "      <td>not applicable</td>\n",
       "      <td>not applicablenot applicablenot applicablenot ...</td>\n",
       "    </tr>\n",
       "    <tr>\n",
       "      <th>11666.BLANK1.1A.ITS</th>\n",
       "      <td>not applicable</td>\n",
       "      <td>not applicable</td>\n",
       "      <td>not applicable</td>\n",
       "      <td>not applicable</td>\n",
       "      <td>not applicable</td>\n",
       "      <td>not applicable</td>\n",
       "      <td>not applicable</td>\n",
       "      <td>not applicablenot applicablenot applicablenot ...</td>\n",
       "    </tr>\n",
       "    <tr>\n",
       "      <th>11666.BLANK1.1B</th>\n",
       "      <td>not applicable</td>\n",
       "      <td>not applicable</td>\n",
       "      <td>not applicable</td>\n",
       "      <td>not applicable</td>\n",
       "      <td>not applicable</td>\n",
       "      <td>not applicable</td>\n",
       "      <td>not applicable</td>\n",
       "      <td>not applicablenot applicablenot applicablenot ...</td>\n",
       "    </tr>\n",
       "    <tr>\n",
       "      <th>11666.BLANK1.1B.ITS</th>\n",
       "      <td>not applicable</td>\n",
       "      <td>not applicable</td>\n",
       "      <td>not applicable</td>\n",
       "      <td>not applicable</td>\n",
       "      <td>not applicable</td>\n",
       "      <td>not applicable</td>\n",
       "      <td>not applicable</td>\n",
       "      <td>not applicablenot applicablenot applicablenot ...</td>\n",
       "    </tr>\n",
       "    <tr>\n",
       "      <th>11666.BLANK1.1C</th>\n",
       "      <td>not applicable</td>\n",
       "      <td>not applicable</td>\n",
       "      <td>not applicable</td>\n",
       "      <td>not applicable</td>\n",
       "      <td>not applicable</td>\n",
       "      <td>not applicable</td>\n",
       "      <td>not applicable</td>\n",
       "      <td>not applicablenot applicablenot applicablenot ...</td>\n",
       "    </tr>\n",
       "  </tbody>\n",
       "</table>\n",
       "</div>"
      ],
      "text/plain": [
       "                            obesity        diabetes    dyslipidemia  \\\n",
       "sample_name                                                           \n",
       "11666.BLANK1.1A      not applicable  not applicable  not applicable   \n",
       "11666.BLANK1.1A.ITS  not applicable  not applicable  not applicable   \n",
       "11666.BLANK1.1B      not applicable  not applicable  not applicable   \n",
       "11666.BLANK1.1B.ITS  not applicable  not applicable  not applicable   \n",
       "11666.BLANK1.1C      not applicable  not applicable  not applicable   \n",
       "\n",
       "                       hypertension             ckd          precvd  \\\n",
       "sample_name                                                           \n",
       "11666.BLANK1.1A      not applicable  not applicable  not applicable   \n",
       "11666.BLANK1.1A.ITS  not applicable  not applicable  not applicable   \n",
       "11666.BLANK1.1B      not applicable  not applicable  not applicable   \n",
       "11666.BLANK1.1B.ITS  not applicable  not applicable  not applicable   \n",
       "11666.BLANK1.1C      not applicable  not applicable  not applicable   \n",
       "\n",
       "                        elevated_bp  \\\n",
       "sample_name                           \n",
       "11666.BLANK1.1A      not applicable   \n",
       "11666.BLANK1.1A.ITS  not applicable   \n",
       "11666.BLANK1.1B      not applicable   \n",
       "11666.BLANK1.1B.ITS  not applicable   \n",
       "11666.BLANK1.1C      not applicable   \n",
       "\n",
       "                                                        total_diseases  \n",
       "sample_name                                                             \n",
       "11666.BLANK1.1A      not applicablenot applicablenot applicablenot ...  \n",
       "11666.BLANK1.1A.ITS  not applicablenot applicablenot applicablenot ...  \n",
       "11666.BLANK1.1B      not applicablenot applicablenot applicablenot ...  \n",
       "11666.BLANK1.1B.ITS  not applicablenot applicablenot applicablenot ...  \n",
       "11666.BLANK1.1C      not applicablenot applicablenot applicablenot ...  "
      ]
     },
     "execution_count": 92,
     "metadata": {},
     "output_type": "execute_result"
    }
   ],
   "source": []
  },
  {
   "cell_type": "code",
   "execution_count": 23,
   "metadata": {},
   "outputs": [
    {
     "name": "stderr",
     "output_type": "stream",
     "text": [
      "/tmp/ipykernel_100/945568459.py:2: SettingWithCopyWarning: \n",
      "A value is trying to be set on a copy of a slice from a DataFrame\n",
      "\n",
      "See the caveats in the documentation: https://pandas.pydata.org/pandas-docs/stable/user_guide/indexing.html#returning-a-view-versus-a-copy\n",
      "  col[col=='not applicable'] = 'TEMP'\n"
     ]
    },
    {
     "data": {
      "text/plain": [
       "sample_name\n",
       "11666.BLANK1.1A        TEMP\n",
       "11666.BLANK1.1A.ITS    TEMP\n",
       "11666.BLANK1.1B        TEMP\n",
       "11666.BLANK1.1B.ITS    TEMP\n",
       "11666.BLANK1.1C        TEMP\n",
       "                       ... \n",
       "11666.G3059L            NaN\n",
       "11666.G3060R            NaN\n",
       "11666.G3061L            NaN\n",
       "11666.G3062L            NaN\n",
       "11666.G816K             NaN\n",
       "Name: abdominal_obesity_idf_v2, Length: 5423, dtype: object"
      ]
     },
     "execution_count": 23,
     "metadata": {},
     "output_type": "execute_result"
    }
   ],
   "source": [
    "clean_na(sub_metadata['abdominal_obesity_idf_v2'])"
   ]
  },
  {
   "cell_type": "code",
   "execution_count": 25,
   "metadata": {},
   "outputs": [
    {
     "name": "stdout",
     "output_type": "stream",
     "text": [
      "abdominal_obesity_ncep_v2 object\n",
      "ckd_v2 object\n",
      "diabetes2_v2 object\n",
      "precvd_v2 object\n",
      "elevated_bp_selfmeds_v2 object\n",
      "high_total_chol2_v2 object\n"
     ]
    }
   ],
   "source": [
    "for col in :\n",
    "    print(col, metadata[col].dtype)"
   ]
  },
  {
   "cell_type": "code",
   "execution_count": 13,
   "metadata": {},
   "outputs": [
    {
     "name": "stdout",
     "output_type": "stream",
     "text": [
      "abdominal_obesity_idf_v2 object\n",
      "diabetes2_v2 object\n",
      "dyslipidemia_v2 object\n",
      "hypertension2_v2 object\n",
      "ckd2 object\n",
      "precvd object\n",
      "elevated_bp_selfmeds_v2 object\n",
      "age_v2 object\n",
      "center object\n",
      "gender object\n",
      "host_body_mass_index object\n"
     ]
    }
   ],
   "source": [
    "col_maps = {'abdominal_obesity_idf_v2':\n",
    "           }"
   ]
  },
  {
   "cell_type": "code",
   "execution_count": null,
   "metadata": {},
   "outputs": [],
   "source": [
    "numeric_cols = ['abdominal_obesity_idf_v2',\n",
    "                'age_v2',\n",
    "                'ckd2',\n",
    "                'diabetes2_v2',\n",
    "                'host_body_mass_index',\n",
    "                'dyslipidemia_v2',\n",
    "                'elevated_bp_selfmeds_v2',\n",
    "                'hypertension2_v2',\n",
    "                'precvd']\n",
    "categorical_cols = ['center',\n",
    "                    'gender']"
   ]
  },
  {
   "cell_type": "code",
   "execution_count": null,
   "metadata": {},
   "outputs": [],
   "source": [
    "missing_values(metadata['abdominal_obesity_ncep_v2'],'numeric')"
   ]
  },
  {
   "cell_type": "code",
   "execution_count": 1,
   "metadata": {},
   "outputs": [],
   "source": []
  },
  {
   "cell_type": "code",
   "execution_count": null,
   "metadata": {},
   "outputs": [],
   "source": []
  },
  {
   "cell_type": "markdown",
   "metadata": {},
   "source": [
    "## Missing Data Analysis"
   ]
  },
  {
   "cell_type": "code",
   "execution_count": null,
   "metadata": {},
   "outputs": [],
   "source": [
    "# Function for single representation for missing values\n",
    "def missing_values(col):\n",
    "    \n",
    "    temp = col.apply(lambda x: np.nan if x in ['not applicable','not provided'] else x)\n",
    "    if type == 'numeric':\n",
    "        temp = temp.apply(lambda x: x if pd.isnull(x) else np.float64(x))\n",
    "    return temp"
   ]
  },
  {
   "cell_type": "code",
   "execution_count": null,
   "metadata": {},
   "outputs": [],
   "source": [
    "missing_values(metadata['abdominal_obesity_ncep_v2'],'numeric').value_counts()"
   ]
  },
  {
   "cell_type": "code",
   "execution_count": null,
   "metadata": {},
   "outputs": [],
   "source": [
    "missing_values(metadata['abdominal_obesity_ncep_v2'],np.int64).isnull().sum() * 100 / len(metadata) "
   ]
  },
  {
   "cell_type": "code",
   "execution_count": null,
   "metadata": {},
   "outputs": [],
   "source": [
    "# Potential Columns -- more to be added \n",
    "# ['abdominal_obesity_idf_v2','abdominal_obesity_ncep_v2','anonymized_name', 'age_v2','bmi_v2','center','ckd2',\n",
    "# 'diabetes2_v2','dm_aware_v2','dyslipidemia_v2','education_c2_v1','elevated_bp_selfmeds_v2','gender','host_age',\n",
    "# 'host_body_mass_index','hypertension2_v2','placeofbirth_group','precvd','us_born_v2',]"
   ]
  },
  {
   "cell_type": "markdown",
   "metadata": {},
   "source": [
    "## Defining missing values"
   ]
  },
  {
   "cell_type": "code",
   "execution_count": null,
   "metadata": {},
   "outputs": [],
   "source": [
    "sub_metadata.loc[:,numeric_col] = sub_metadata[numeric_col].apply(lambda x: missing_values(x,'numeric'))\n",
    "sub_metadata.loc[:,categorical_col] = sub_metadata[categorical_col].apply(lambda x: missing_values(x,'categorical'))"
   ]
  },
  {
   "cell_type": "code",
   "execution_count": null,
   "metadata": {},
   "outputs": [],
   "source": [
    "sub_metadata.isnull().sum() * 100 / len(sub_metadata) # calculates percent of nan in column\n"
   ]
  },
  {
   "cell_type": "markdown",
   "metadata": {},
   "source": [
    "## EDA on Subset of Metadata"
   ]
  },
  {
   "cell_type": "code",
   "execution_count": null,
   "metadata": {},
   "outputs": [],
   "source": [
    "sub_metadata"
   ]
  },
  {
   "cell_type": "code",
   "execution_count": null,
   "metadata": {},
   "outputs": [],
   "source": [
    "def create_bar_col_binary(df, col_name):\n",
    "    ax = df[col_name].fillna(-1).value_counts().sort_index(ascending=False).plot(kind='barh')\n",
    "    ax.set_xlabel('count')\n",
    "    ax.set_ylabel('outcome')\n",
    "    ax.set_title(col_name)"
   ]
  },
  {
   "cell_type": "code",
   "execution_count": null,
   "metadata": {},
   "outputs": [],
   "source": [
    "create_bar_col_binary(sub_metadata, 'dyslipidemia_v2')"
   ]
  }
 ],
 "metadata": {
  "kernelspec": {
   "display_name": "Python 3 (ipykernel)",
   "language": "python",
   "name": "python3"
  },
  "language_info": {
   "codemirror_mode": {
    "name": "ipython",
    "version": 3
   },
   "file_extension": ".py",
   "mimetype": "text/x-python",
   "name": "python",
   "nbconvert_exporter": "python",
   "pygments_lexer": "ipython3",
   "version": "3.9.5"
  },
  "vscode": {
   "interpreter": {
    "hash": "2f3eb80ecefa8a2bb623a916cf91dd59a834c9ebe3cfa6e57c9edbb4634331c0"
   }
  }
 },
 "nbformat": 4,
 "nbformat_minor": 2
}
